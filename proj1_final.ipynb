{
 "cells": [
  {
   "cell_type": "code",
   "execution_count": 1,
   "metadata": {},
   "outputs": [],
   "source": [
    "using JuMP, CSV, DataFrames, Gurobi, LinearAlgebra"
   ]
  },
  {
   "cell_type": "code",
   "execution_count": 2,
   "metadata": {},
   "outputs": [
    {
     "data": {
      "text/html": [
       "<table class=\"data-frame\"><thead><tr><th></th><th>Matéria</th><th>7h30-9h30</th><th>9h30-11h30</th><th>13h30-15h30</th><th>15h30-17h30</th><th>17h30-19h30</th></tr><tr><th></th><th>String?</th><th>Int64</th><th>Int64</th><th>Int64</th><th>Int64</th><th>Int64</th></tr></thead><tbody><p>460 rows × 8 columns (omitted printing of 2 columns)</p><tr><th>1</th><td>Álgebra Linear A</td><td>2</td><td>0</td><td>0</td><td>0</td><td>0</td></tr><tr><th>2</th><td><em>missing</em></td><td>0</td><td>0</td><td>0</td><td>0</td><td>0</td></tr><tr><th>3</th><td><em>missing</em></td><td>2</td><td>0</td><td>0</td><td>0</td><td>0</td></tr><tr><th>4</th><td><em>missing</em></td><td>0</td><td>0</td><td>0</td><td>0</td><td>0</td></tr><tr><th>5</th><td><em>missing</em></td><td>0</td><td>0</td><td>0</td><td>0</td><td>0</td></tr><tr><th>6</th><td>Álgebra Linear B</td><td>2</td><td>0</td><td>0</td><td>0</td><td>0</td></tr><tr><th>7</th><td><em>missing</em></td><td>0</td><td>0</td><td>0</td><td>0</td><td>0</td></tr><tr><th>8</th><td><em>missing</em></td><td>2</td><td>0</td><td>0</td><td>0</td><td>0</td></tr><tr><th>9</th><td><em>missing</em></td><td>0</td><td>0</td><td>0</td><td>0</td><td>0</td></tr><tr><th>10</th><td><em>missing</em></td><td>0</td><td>0</td><td>0</td><td>0</td><td>0</td></tr><tr><th>11</th><td>Álgebra Linear C</td><td>0</td><td>0</td><td>0</td><td>0</td><td>0</td></tr><tr><th>12</th><td><em>missing</em></td><td>2</td><td>0</td><td>0</td><td>0</td><td>0</td></tr><tr><th>13</th><td><em>missing</em></td><td>0</td><td>0</td><td>0</td><td>0</td><td>0</td></tr><tr><th>14</th><td><em>missing</em></td><td>2</td><td>0</td><td>0</td><td>0</td><td>0</td></tr><tr><th>15</th><td><em>missing</em></td><td>0</td><td>0</td><td>0</td><td>0</td><td>0</td></tr><tr><th>16</th><td>Álgebra Linear D</td><td>0</td><td>0</td><td>0</td><td>0</td><td>0</td></tr><tr><th>17</th><td><em>missing</em></td><td>2</td><td>0</td><td>0</td><td>0</td><td>0</td></tr><tr><th>18</th><td><em>missing</em></td><td>0</td><td>0</td><td>0</td><td>0</td><td>0</td></tr><tr><th>19</th><td><em>missing</em></td><td>2</td><td>0</td><td>0</td><td>0</td><td>0</td></tr><tr><th>20</th><td><em>missing</em></td><td>0</td><td>0</td><td>0</td><td>0</td><td>0</td></tr><tr><th>21</th><td>Álgebra Linear E</td><td>0</td><td>0</td><td>0</td><td>0</td><td>0</td></tr><tr><th>22</th><td><em>missing</em></td><td>2</td><td>0</td><td>0</td><td>0</td><td>0</td></tr><tr><th>23</th><td><em>missing</em></td><td>0</td><td>0</td><td>0</td><td>0</td><td>0</td></tr><tr><th>24</th><td><em>missing</em></td><td>2</td><td>0</td><td>0</td><td>0</td><td>0</td></tr><tr><th>25</th><td><em>missing</em></td><td>0</td><td>0</td><td>0</td><td>0</td><td>0</td></tr><tr><th>26</th><td>Álgebra Linear F</td><td>0</td><td>0</td><td>0</td><td>0</td><td>0</td></tr><tr><th>27</th><td><em>missing</em></td><td>0</td><td>0</td><td>2</td><td>0</td><td>0</td></tr><tr><th>28</th><td><em>missing</em></td><td>0</td><td>0</td><td>0</td><td>0</td><td>0</td></tr><tr><th>29</th><td><em>missing</em></td><td>0</td><td>0</td><td>2</td><td>0</td><td>0</td></tr><tr><th>30</th><td><em>missing</em></td><td>0</td><td>0</td><td>0</td><td>0</td><td>0</td></tr><tr><th>&vellip;</th><td>&vellip;</td><td>&vellip;</td><td>&vellip;</td><td>&vellip;</td><td>&vellip;</td><td>&vellip;</td></tr></tbody></table>"
      ],
      "text/latex": [
       "\\begin{tabular}{r|ccccccc}\n",
       "\t& Matéria & 7h30-9h30 & 9h30-11h30 & 13h30-15h30 & 15h30-17h30 & 17h30-19h30 & \\\\\n",
       "\t\\hline\n",
       "\t& String? & Int64 & Int64 & Int64 & Int64 & Int64 & \\\\\n",
       "\t\\hline\n",
       "\t1 & Álgebra Linear A & 2 & 0 & 0 & 0 & 0 & $\\dots$ \\\\\n",
       "\t2 & \\emph{missing} & 0 & 0 & 0 & 0 & 0 & $\\dots$ \\\\\n",
       "\t3 & \\emph{missing} & 2 & 0 & 0 & 0 & 0 & $\\dots$ \\\\\n",
       "\t4 & \\emph{missing} & 0 & 0 & 0 & 0 & 0 & $\\dots$ \\\\\n",
       "\t5 & \\emph{missing} & 0 & 0 & 0 & 0 & 0 & $\\dots$ \\\\\n",
       "\t6 & Álgebra Linear B & 2 & 0 & 0 & 0 & 0 & $\\dots$ \\\\\n",
       "\t7 & \\emph{missing} & 0 & 0 & 0 & 0 & 0 & $\\dots$ \\\\\n",
       "\t8 & \\emph{missing} & 2 & 0 & 0 & 0 & 0 & $\\dots$ \\\\\n",
       "\t9 & \\emph{missing} & 0 & 0 & 0 & 0 & 0 & $\\dots$ \\\\\n",
       "\t10 & \\emph{missing} & 0 & 0 & 0 & 0 & 0 & $\\dots$ \\\\\n",
       "\t11 & Álgebra Linear C & 0 & 0 & 0 & 0 & 0 & $\\dots$ \\\\\n",
       "\t12 & \\emph{missing} & 2 & 0 & 0 & 0 & 0 & $\\dots$ \\\\\n",
       "\t13 & \\emph{missing} & 0 & 0 & 0 & 0 & 0 & $\\dots$ \\\\\n",
       "\t14 & \\emph{missing} & 2 & 0 & 0 & 0 & 0 & $\\dots$ \\\\\n",
       "\t15 & \\emph{missing} & 0 & 0 & 0 & 0 & 0 & $\\dots$ \\\\\n",
       "\t16 & Álgebra Linear D & 0 & 0 & 0 & 0 & 0 & $\\dots$ \\\\\n",
       "\t17 & \\emph{missing} & 2 & 0 & 0 & 0 & 0 & $\\dots$ \\\\\n",
       "\t18 & \\emph{missing} & 0 & 0 & 0 & 0 & 0 & $\\dots$ \\\\\n",
       "\t19 & \\emph{missing} & 2 & 0 & 0 & 0 & 0 & $\\dots$ \\\\\n",
       "\t20 & \\emph{missing} & 0 & 0 & 0 & 0 & 0 & $\\dots$ \\\\\n",
       "\t21 & Álgebra Linear E & 0 & 0 & 0 & 0 & 0 & $\\dots$ \\\\\n",
       "\t22 & \\emph{missing} & 2 & 0 & 0 & 0 & 0 & $\\dots$ \\\\\n",
       "\t23 & \\emph{missing} & 0 & 0 & 0 & 0 & 0 & $\\dots$ \\\\\n",
       "\t24 & \\emph{missing} & 2 & 0 & 0 & 0 & 0 & $\\dots$ \\\\\n",
       "\t25 & \\emph{missing} & 0 & 0 & 0 & 0 & 0 & $\\dots$ \\\\\n",
       "\t26 & Álgebra Linear F & 0 & 0 & 0 & 0 & 0 & $\\dots$ \\\\\n",
       "\t27 & \\emph{missing} & 0 & 0 & 2 & 0 & 0 & $\\dots$ \\\\\n",
       "\t28 & \\emph{missing} & 0 & 0 & 0 & 0 & 0 & $\\dots$ \\\\\n",
       "\t29 & \\emph{missing} & 0 & 0 & 2 & 0 & 0 & $\\dots$ \\\\\n",
       "\t30 & \\emph{missing} & 0 & 0 & 0 & 0 & 0 & $\\dots$ \\\\\n",
       "\t$\\dots$ & $\\dots$ & $\\dots$ & $\\dots$ & $\\dots$ & $\\dots$ & $\\dots$ &  \\\\\n",
       "\\end{tabular}\n"
      ],
      "text/plain": [
       "460×8 DataFrame. Omitted printing of 4 columns\n",
       "│ Row │ Matéria                    │ 7h30-9h30 │ 9h30-11h30 │ 13h30-15h30 │\n",
       "│     │ \u001b[90mUnion{Missing, String}\u001b[39m     │ \u001b[90mInt64\u001b[39m     │ \u001b[90mInt64\u001b[39m      │ \u001b[90mInt64\u001b[39m       │\n",
       "├─────┼────────────────────────────┼───────────┼────────────┼─────────────┤\n",
       "│ 1   │ Álgebra Linear A           │ 2         │ 0          │ 0           │\n",
       "│ 2   │ \u001b[90mmissing\u001b[39m                    │ 0         │ 0          │ 0           │\n",
       "│ 3   │ \u001b[90mmissing\u001b[39m                    │ 2         │ 0          │ 0           │\n",
       "│ 4   │ \u001b[90mmissing\u001b[39m                    │ 0         │ 0          │ 0           │\n",
       "│ 5   │ \u001b[90mmissing\u001b[39m                    │ 0         │ 0          │ 0           │\n",
       "│ 6   │ Álgebra Linear B           │ 2         │ 0          │ 0           │\n",
       "│ 7   │ \u001b[90mmissing\u001b[39m                    │ 0         │ 0          │ 0           │\n",
       "│ 8   │ \u001b[90mmissing\u001b[39m                    │ 2         │ 0          │ 0           │\n",
       "│ 9   │ \u001b[90mmissing\u001b[39m                    │ 0         │ 0          │ 0           │\n",
       "│ 10  │ \u001b[90mmissing\u001b[39m                    │ 0         │ 0          │ 0           │\n",
       "⋮\n",
       "│ 450 │ \u001b[90mmissing\u001b[39m                    │ 0         │ 0          │ 0           │\n",
       "│ 451 │ Cálculo com Álgebra Linear │ 0         │ 0          │ 0           │\n",
       "│ 452 │ \u001b[90mmissing\u001b[39m                    │ 0         │ 0          │ 0           │\n",
       "│ 453 │ \u001b[90mmissing\u001b[39m                    │ 0         │ 0          │ 0           │\n",
       "│ 454 │ \u001b[90mmissing\u001b[39m                    │ 0         │ 0          │ 0           │\n",
       "│ 455 │ \u001b[90mmissing\u001b[39m                    │ 0         │ 0          │ 0           │\n",
       "│ 456 │ Cálculo com Álgebra Linear │ 0         │ 0          │ 0           │\n",
       "│ 457 │ \u001b[90mmissing\u001b[39m                    │ 0         │ 0          │ 0           │\n",
       "│ 458 │ \u001b[90mmissing\u001b[39m                    │ 0         │ 0          │ 0           │\n",
       "│ 459 │ \u001b[90mmissing\u001b[39m                    │ 0         │ 0          │ 0           │\n",
       "│ 460 │ \u001b[90mmissing\u001b[39m                    │ 0         │ 0          │ 0           │"
      ]
     },
     "execution_count": 2,
     "metadata": {},
     "output_type": "execute_result"
    }
   ],
   "source": [
    "materias = CSV.File(\"C://Users//Acer//Desktop//nao-linear//proj1_final//materias1.csv\")\n",
    "lista_materias = DataFrame(materias)"
   ]
  },
  {
   "cell_type": "code",
   "execution_count": 3,
   "metadata": {},
   "outputs": [
    {
     "data": {
      "text/html": [
       "<table class=\"data-frame\"><thead><tr><th></th><th>materias</th><th>CM005 A</th><th>CM005 B</th><th>CM005 C</th><th>CM005 D</th><th>CM005 E</th><th>CM005 F</th><th>CM005 G</th></tr><tr><th></th><th>String</th><th>Int64</th><th>Int64</th><th>Int64</th><th>Int64</th><th>Int64</th><th>Int64</th><th>Int64</th></tr></thead><tbody><p>52 rows × 93 columns (omitted printing of 85 columns)</p><tr><th>1</th><td>Abel</td><td>0</td><td>0</td><td>0</td><td>0</td><td>0</td><td>0</td><td>0</td></tr><tr><th>2</th><td>Ademir</td><td>0</td><td>0</td><td>5</td><td>5</td><td>5</td><td>4</td><td>4</td></tr><tr><th>3</th><td>Adonai</td><td>0</td><td>0</td><td>0</td><td>0</td><td>0</td><td>0</td><td>0</td></tr><tr><th>4</th><td>Adriana</td><td>0</td><td>0</td><td>0</td><td>0</td><td>0</td><td>0</td><td>0</td></tr><tr><th>5</th><td>Aillin</td><td>0</td><td>0</td><td>0</td><td>0</td><td>0</td><td>0</td><td>0</td></tr><tr><th>6</th><td>Aldemir</td><td>0</td><td>0</td><td>0</td><td>0</td><td>0</td><td>0</td><td>0</td></tr><tr><th>7</th><td>Ana Gabriela</td><td>5</td><td>5</td><td>0</td><td>0</td><td>0</td><td>0</td><td>0</td></tr><tr><th>8</th><td>Barreda</td><td>0</td><td>0</td><td>0</td><td>0</td><td>0</td><td>0</td><td>0</td></tr><tr><th>9</th><td>Carlos Henrique</td><td>0</td><td>0</td><td>0</td><td>0</td><td>0</td><td>0</td><td>0</td></tr><tr><th>10</th><td>Carlos Vianna</td><td>0</td><td>0</td><td>0</td><td>0</td><td>0</td><td>0</td><td>0</td></tr><tr><th>11</th><td>Carrer</td><td>0</td><td>0</td><td>0</td><td>0</td><td>0</td><td>0</td><td>0</td></tr><tr><th>12</th><td>Cifuentes</td><td>0</td><td>0</td><td>0</td><td>0</td><td>0</td><td>0</td><td>0</td></tr><tr><th>13</th><td>Cleber</td><td>0</td><td>0</td><td>0</td><td>0</td><td>0</td><td>0</td><td>0</td></tr><tr><th>14</th><td>Diego</td><td>0</td><td>0</td><td>0</td><td>0</td><td>0</td><td>3</td><td>3</td></tr><tr><th>15</th><td>Durán</td><td>0</td><td>0</td><td>4</td><td>4</td><td>4</td><td>0</td><td>0</td></tr><tr><th>16</th><td>Edson</td><td>0</td><td>0</td><td>5</td><td>5</td><td>5</td><td>4</td><td>4</td></tr><tr><th>17</th><td>Eduardo</td><td>0</td><td>0</td><td>0</td><td>0</td><td>0</td><td>0</td><td>0</td></tr><tr><th>18</th><td>Elenilton</td><td>0</td><td>0</td><td>0</td><td>0</td><td>0</td><td>0</td><td>0</td></tr><tr><th>19</th><td>Elias</td><td>0</td><td>0</td><td>0</td><td>0</td><td>0</td><td>0</td><td>0</td></tr><tr><th>20</th><td>Elisângela</td><td>0</td><td>0</td><td>3</td><td>3</td><td>3</td><td>0</td><td>0</td></tr><tr><th>21</th><td>Elizabeth</td><td>0</td><td>0</td><td>5</td><td>5</td><td>5</td><td>4</td><td>4</td></tr><tr><th>22</th><td>Fernando</td><td>0</td><td>0</td><td>0</td><td>0</td><td>0</td><td>0</td><td>0</td></tr><tr><th>23</th><td>Geovani</td><td>0</td><td>0</td><td>0</td><td>0</td><td>0</td><td>0</td><td>0</td></tr><tr><th>24</th><td>Heily</td><td>0</td><td>0</td><td>0</td><td>0</td><td>0</td><td>3</td><td>3</td></tr><tr><th>25</th><td>Higidio</td><td>0</td><td>0</td><td>0</td><td>0</td><td>0</td><td>0</td><td>0</td></tr><tr><th>26</th><td>Hu</td><td>0</td><td>0</td><td>0</td><td>0</td><td>0</td><td>0</td><td>0</td></tr><tr><th>27</th><td>José Alberto</td><td>2</td><td>2</td><td>0</td><td>0</td><td>0</td><td>0</td><td>0</td></tr><tr><th>28</th><td>José Renato</td><td>0</td><td>0</td><td>0</td><td>0</td><td>0</td><td>0</td><td>0</td></tr><tr><th>29</th><td>Juan</td><td>0</td><td>0</td><td>0</td><td>0</td><td>0</td><td>2</td><td>2</td></tr><tr><th>30</th><td>Jurandir</td><td>0</td><td>0</td><td>0</td><td>0</td><td>0</td><td>0</td><td>0</td></tr><tr><th>&vellip;</th><td>&vellip;</td><td>&vellip;</td><td>&vellip;</td><td>&vellip;</td><td>&vellip;</td><td>&vellip;</td><td>&vellip;</td><td>&vellip;</td></tr></tbody></table>"
      ],
      "text/latex": [
       "\\begin{tabular}{r|ccccccccc}\n",
       "\t& materias & CM005 A & CM005 B & CM005 C & CM005 D & CM005 E & CM005 F & CM005 G & \\\\\n",
       "\t\\hline\n",
       "\t& String & Int64 & Int64 & Int64 & Int64 & Int64 & Int64 & Int64 & \\\\\n",
       "\t\\hline\n",
       "\t1 & Abel & 0 & 0 & 0 & 0 & 0 & 0 & 0 & $\\dots$ \\\\\n",
       "\t2 & Ademir & 0 & 0 & 5 & 5 & 5 & 4 & 4 & $\\dots$ \\\\\n",
       "\t3 & Adonai & 0 & 0 & 0 & 0 & 0 & 0 & 0 & $\\dots$ \\\\\n",
       "\t4 & Adriana & 0 & 0 & 0 & 0 & 0 & 0 & 0 & $\\dots$ \\\\\n",
       "\t5 & Aillin & 0 & 0 & 0 & 0 & 0 & 0 & 0 & $\\dots$ \\\\\n",
       "\t6 & Aldemir & 0 & 0 & 0 & 0 & 0 & 0 & 0 & $\\dots$ \\\\\n",
       "\t7 & Ana Gabriela & 5 & 5 & 0 & 0 & 0 & 0 & 0 & $\\dots$ \\\\\n",
       "\t8 & Barreda & 0 & 0 & 0 & 0 & 0 & 0 & 0 & $\\dots$ \\\\\n",
       "\t9 & Carlos Henrique & 0 & 0 & 0 & 0 & 0 & 0 & 0 & $\\dots$ \\\\\n",
       "\t10 & Carlos Vianna & 0 & 0 & 0 & 0 & 0 & 0 & 0 & $\\dots$ \\\\\n",
       "\t11 & Carrer & 0 & 0 & 0 & 0 & 0 & 0 & 0 & $\\dots$ \\\\\n",
       "\t12 & Cifuentes & 0 & 0 & 0 & 0 & 0 & 0 & 0 & $\\dots$ \\\\\n",
       "\t13 & Cleber & 0 & 0 & 0 & 0 & 0 & 0 & 0 & $\\dots$ \\\\\n",
       "\t14 & Diego & 0 & 0 & 0 & 0 & 0 & 3 & 3 & $\\dots$ \\\\\n",
       "\t15 & Durán & 0 & 0 & 4 & 4 & 4 & 0 & 0 & $\\dots$ \\\\\n",
       "\t16 & Edson & 0 & 0 & 5 & 5 & 5 & 4 & 4 & $\\dots$ \\\\\n",
       "\t17 & Eduardo & 0 & 0 & 0 & 0 & 0 & 0 & 0 & $\\dots$ \\\\\n",
       "\t18 & Elenilton & 0 & 0 & 0 & 0 & 0 & 0 & 0 & $\\dots$ \\\\\n",
       "\t19 & Elias & 0 & 0 & 0 & 0 & 0 & 0 & 0 & $\\dots$ \\\\\n",
       "\t20 & Elisângela & 0 & 0 & 3 & 3 & 3 & 0 & 0 & $\\dots$ \\\\\n",
       "\t21 & Elizabeth & 0 & 0 & 5 & 5 & 5 & 4 & 4 & $\\dots$ \\\\\n",
       "\t22 & Fernando & 0 & 0 & 0 & 0 & 0 & 0 & 0 & $\\dots$ \\\\\n",
       "\t23 & Geovani & 0 & 0 & 0 & 0 & 0 & 0 & 0 & $\\dots$ \\\\\n",
       "\t24 & Heily & 0 & 0 & 0 & 0 & 0 & 3 & 3 & $\\dots$ \\\\\n",
       "\t25 & Higidio & 0 & 0 & 0 & 0 & 0 & 0 & 0 & $\\dots$ \\\\\n",
       "\t26 & Hu & 0 & 0 & 0 & 0 & 0 & 0 & 0 & $\\dots$ \\\\\n",
       "\t27 & José Alberto & 2 & 2 & 0 & 0 & 0 & 0 & 0 & $\\dots$ \\\\\n",
       "\t28 & José Renato & 0 & 0 & 0 & 0 & 0 & 0 & 0 & $\\dots$ \\\\\n",
       "\t29 & Juan & 0 & 0 & 0 & 0 & 0 & 2 & 2 & $\\dots$ \\\\\n",
       "\t30 & Jurandir & 0 & 0 & 0 & 0 & 0 & 0 & 0 & $\\dots$ \\\\\n",
       "\t$\\dots$ & $\\dots$ & $\\dots$ & $\\dots$ & $\\dots$ & $\\dots$ & $\\dots$ & $\\dots$ & $\\dots$ &  \\\\\n",
       "\\end{tabular}\n"
      ],
      "text/plain": [
       "52×93 DataFrame. Omitted printing of 87 columns\n",
       "│ Row │ materias        │ CM005 A │ CM005 B │ CM005 C │ CM005 D │ CM005 E │\n",
       "│     │ \u001b[90mString\u001b[39m          │ \u001b[90mInt64\u001b[39m   │ \u001b[90mInt64\u001b[39m   │ \u001b[90mInt64\u001b[39m   │ \u001b[90mInt64\u001b[39m   │ \u001b[90mInt64\u001b[39m   │\n",
       "├─────┼─────────────────┼─────────┼─────────┼─────────┼─────────┼─────────┤\n",
       "│ 1   │ Abel            │ 0       │ 0       │ 0       │ 0       │ 0       │\n",
       "│ 2   │ Ademir          │ 0       │ 0       │ 5       │ 5       │ 5       │\n",
       "│ 3   │ Adonai          │ 0       │ 0       │ 0       │ 0       │ 0       │\n",
       "│ 4   │ Adriana         │ 0       │ 0       │ 0       │ 0       │ 0       │\n",
       "│ 5   │ Aillin          │ 0       │ 0       │ 0       │ 0       │ 0       │\n",
       "│ 6   │ Aldemir         │ 0       │ 0       │ 0       │ 0       │ 0       │\n",
       "│ 7   │ Ana Gabriela    │ 5       │ 5       │ 0       │ 0       │ 0       │\n",
       "│ 8   │ Barreda         │ 0       │ 0       │ 0       │ 0       │ 0       │\n",
       "│ 9   │ Carlos Henrique │ 0       │ 0       │ 0       │ 0       │ 0       │\n",
       "│ 10  │ Carlos Vianna   │ 0       │ 0       │ 0       │ 0       │ 0       │\n",
       "⋮\n",
       "│ 42  │ Pedro           │ 0       │ 0       │ 0       │ 0       │ 0       │\n",
       "│ 43  │ Raul            │ 0       │ 0       │ 0       │ 0       │ 0       │\n",
       "│ 44  │ Roberto         │ 0       │ 0       │ 0       │ 0       │ 0       │\n",
       "│ 45  │ Rodrigo         │ 0       │ 0       │ 0       │ 0       │ 0       │\n",
       "│ 46  │ Rossetto        │ 0       │ 0       │ 0       │ 0       │ 0       │\n",
       "│ 47  │ Saulo           │ 0       │ 0       │ 0       │ 0       │ 0       │\n",
       "│ 48  │ Tanise          │ 2       │ 2       │ 0       │ 0       │ 0       │\n",
       "│ 49  │ Trovon          │ 0       │ 0       │ 2       │ 2       │ 2       │\n",
       "│ 50  │ Ximena          │ 0       │ 0       │ 2       │ 2       │ 2       │\n",
       "│ 51  │ Yuan            │ 0       │ 0       │ 0       │ 0       │ 0       │\n",
       "│ 52  │ Zeca            │ 0       │ 0       │ 0       │ 0       │ 0       │"
      ]
     },
     "execution_count": 3,
     "metadata": {},
     "output_type": "execute_result"
    }
   ],
   "source": [
    "Professores = CSV.File(\"C://Users//Acer//Desktop//nao-linear//proj1_final//preferenciasProfes1.csv\")\n",
    "lista_professores = DataFrame(Professores)"
   ]
  },
  {
   "cell_type": "code",
   "execution_count": 4,
   "metadata": {},
   "outputs": [],
   "source": [
    "DU = zeros(5,7,92);\n",
    "for k=1:92\n",
    "    DU[:,:,k] .= lista_materias[1 + (k-1) * 5: 5 + (k-1) * 5, 2:8]\n",
    "end"
   ]
  },
  {
   "cell_type": "code",
   "execution_count": 5,
   "metadata": {},
   "outputs": [],
   "source": [
    "HT = copy(DU)\n",
    "HT = HT/2;"
   ]
  },
  {
   "cell_type": "code",
   "execution_count": 6,
   "metadata": {},
   "outputs": [],
   "source": [
    "preferencias = zeros(Int,52,92);\n",
    "preferencias .= lista_professores[:,2:93];\n",
    "# preferencias = 10 * preferencias;"
   ]
  },
  {
   "cell_type": "code",
   "execution_count": 7,
   "metadata": {},
   "outputs": [
    {
     "data": {
      "text/html": [
       "<table class=\"data-frame\"><thead><tr><th></th><th>materias</th><th>CM005 A</th><th>CM005 B</th><th>CM005 C</th><th>CM005 D</th><th>CM005 E</th><th>CM005 F</th><th>CM005 G</th><th>CM005 H</th></tr><tr><th></th><th>String</th><th>Int64</th><th>Int64</th><th>Int64</th><th>Int64</th><th>Int64</th><th>Int64</th><th>Int64</th><th>Int64</th></tr></thead><tbody><p>5 rows × 93 columns (omitted printing of 84 columns)</p><tr><th>1</th><td>segunda feira</td><td>1</td><td>1</td><td>0</td><td>0</td><td>0</td><td>0</td><td>0</td><td>0</td></tr><tr><th>2</th><td>terça feira</td><td>0</td><td>0</td><td>1</td><td>1</td><td>1</td><td>1</td><td>1</td><td>1</td></tr><tr><th>3</th><td>quarta feira</td><td>1</td><td>1</td><td>0</td><td>0</td><td>0</td><td>0</td><td>0</td><td>0</td></tr><tr><th>4</th><td>quinte feira </td><td>0</td><td>0</td><td>1</td><td>1</td><td>1</td><td>1</td><td>1</td><td>1</td></tr><tr><th>5</th><td>sexta feira</td><td>0</td><td>0</td><td>0</td><td>0</td><td>0</td><td>0</td><td>0</td><td>0</td></tr></tbody></table>"
      ],
      "text/latex": [
       "\\begin{tabular}{r|cccccccccc}\n",
       "\t& materias & CM005 A & CM005 B & CM005 C & CM005 D & CM005 E & CM005 F & CM005 G & CM005 H & \\\\\n",
       "\t\\hline\n",
       "\t& String & Int64 & Int64 & Int64 & Int64 & Int64 & Int64 & Int64 & Int64 & \\\\\n",
       "\t\\hline\n",
       "\t1 & segunda feira & 1 & 1 & 0 & 0 & 0 & 0 & 0 & 0 & $\\dots$ \\\\\n",
       "\t2 & terça feira & 0 & 0 & 1 & 1 & 1 & 1 & 1 & 1 & $\\dots$ \\\\\n",
       "\t3 & quarta feira & 1 & 1 & 0 & 0 & 0 & 0 & 0 & 0 & $\\dots$ \\\\\n",
       "\t4 & quinte feira  & 0 & 0 & 1 & 1 & 1 & 1 & 1 & 1 & $\\dots$ \\\\\n",
       "\t5 & sexta feira & 0 & 0 & 0 & 0 & 0 & 0 & 0 & 0 & $\\dots$ \\\\\n",
       "\\end{tabular}\n"
      ],
      "text/plain": [
       "5×93 DataFrame. Omitted printing of 87 columns\n",
       "│ Row │ materias      │ CM005 A │ CM005 B │ CM005 C │ CM005 D │ CM005 E │\n",
       "│     │ \u001b[90mString\u001b[39m        │ \u001b[90mInt64\u001b[39m   │ \u001b[90mInt64\u001b[39m   │ \u001b[90mInt64\u001b[39m   │ \u001b[90mInt64\u001b[39m   │ \u001b[90mInt64\u001b[39m   │\n",
       "├─────┼───────────────┼─────────┼─────────┼─────────┼─────────┼─────────┤\n",
       "│ 1   │ segunda feira │ 1       │ 1       │ 0       │ 0       │ 0       │\n",
       "│ 2   │ terça feira   │ 0       │ 0       │ 1       │ 1       │ 1       │\n",
       "│ 3   │ quarta feira  │ 1       │ 1       │ 0       │ 0       │ 0       │\n",
       "│ 4   │ quinte feira  │ 0       │ 0       │ 1       │ 1       │ 1       │\n",
       "│ 5   │ sexta feira   │ 0       │ 0       │ 0       │ 0       │ 0       │"
      ]
     },
     "execution_count": 7,
     "metadata": {},
     "output_type": "execute_result"
    }
   ],
   "source": [
    "dias = CSV.File(\"C://Users//Acer//Desktop//nao-linear//proj1_final//V.csv\")\n",
    "dias_aulas = DataFrame(dias)"
   ]
  },
  {
   "cell_type": "code",
   "execution_count": 8,
   "metadata": {},
   "outputs": [
    {
     "data": {
      "text/html": [
       "<table class=\"data-frame\"><thead><tr><th></th><th>CM005 A</th><th>CM005 B</th><th>CM005 C</th><th>CM005 D</th><th>CM005 E</th><th>CM005 F</th><th>CM005 G</th><th>CM005 H</th><th>CM005 I</th></tr><tr><th></th><th>Int64</th><th>Int64</th><th>Int64</th><th>Int64</th><th>Int64</th><th>Int64</th><th>Int64</th><th>Int64</th><th>Int64</th></tr></thead><tbody><p>5 rows × 92 columns (omitted printing of 83 columns)</p><tr><th>1</th><td>1</td><td>1</td><td>0</td><td>0</td><td>0</td><td>0</td><td>0</td><td>0</td><td>1</td></tr><tr><th>2</th><td>0</td><td>0</td><td>1</td><td>1</td><td>1</td><td>1</td><td>1</td><td>1</td><td>0</td></tr><tr><th>3</th><td>1</td><td>1</td><td>0</td><td>0</td><td>0</td><td>0</td><td>0</td><td>0</td><td>1</td></tr><tr><th>4</th><td>0</td><td>0</td><td>1</td><td>1</td><td>1</td><td>1</td><td>1</td><td>1</td><td>0</td></tr><tr><th>5</th><td>0</td><td>0</td><td>0</td><td>0</td><td>0</td><td>0</td><td>0</td><td>0</td><td>0</td></tr></tbody></table>"
      ],
      "text/latex": [
       "\\begin{tabular}{r|cccccccccc}\n",
       "\t& CM005 A & CM005 B & CM005 C & CM005 D & CM005 E & CM005 F & CM005 G & CM005 H & CM005 I & \\\\\n",
       "\t\\hline\n",
       "\t& Int64 & Int64 & Int64 & Int64 & Int64 & Int64 & Int64 & Int64 & Int64 & \\\\\n",
       "\t\\hline\n",
       "\t1 & 1 & 1 & 0 & 0 & 0 & 0 & 0 & 0 & 1 & $\\dots$ \\\\\n",
       "\t2 & 0 & 0 & 1 & 1 & 1 & 1 & 1 & 1 & 0 & $\\dots$ \\\\\n",
       "\t3 & 1 & 1 & 0 & 0 & 0 & 0 & 0 & 0 & 1 & $\\dots$ \\\\\n",
       "\t4 & 0 & 0 & 1 & 1 & 1 & 1 & 1 & 1 & 0 & $\\dots$ \\\\\n",
       "\t5 & 0 & 0 & 0 & 0 & 0 & 0 & 0 & 0 & 0 & $\\dots$ \\\\\n",
       "\\end{tabular}\n"
      ],
      "text/plain": [
       "5×92 DataFrame. Omitted printing of 85 columns\n",
       "│ Row │ CM005 A │ CM005 B │ CM005 C │ CM005 D │ CM005 E │ CM005 F │ CM005 G │\n",
       "│     │ \u001b[90mInt64\u001b[39m   │ \u001b[90mInt64\u001b[39m   │ \u001b[90mInt64\u001b[39m   │ \u001b[90mInt64\u001b[39m   │ \u001b[90mInt64\u001b[39m   │ \u001b[90mInt64\u001b[39m   │ \u001b[90mInt64\u001b[39m   │\n",
       "├─────┼─────────┼─────────┼─────────┼─────────┼─────────┼─────────┼─────────┤\n",
       "│ 1   │ 1       │ 1       │ 0       │ 0       │ 0       │ 0       │ 0       │\n",
       "│ 2   │ 0       │ 0       │ 1       │ 1       │ 1       │ 1       │ 1       │\n",
       "│ 3   │ 1       │ 1       │ 0       │ 0       │ 0       │ 0       │ 0       │\n",
       "│ 4   │ 0       │ 0       │ 1       │ 1       │ 1       │ 1       │ 1       │\n",
       "│ 5   │ 0       │ 0       │ 0       │ 0       │ 0       │ 0       │ 0       │"
      ]
     },
     "execution_count": 8,
     "metadata": {},
     "output_type": "execute_result"
    }
   ],
   "source": [
    "V = dias_aulas[1:5,2:93]"
   ]
  },
  {
   "cell_type": "code",
   "execution_count": 9,
   "metadata": {},
   "outputs": [
    {
     "name": "stdout",
     "output_type": "stream",
     "text": [
      "Academic license - for non-commercial use only - expires 2021-01-09\r\n"
     ]
    },
    {
     "data": {
      "text/plain": [
       "5"
      ]
     },
     "execution_count": 9,
     "metadata": {},
     "output_type": "execute_result"
    }
   ],
   "source": [
    "model = Model(Gurobi.Optimizer)\n",
    "\n",
    "P = size(preferencias,1) # número de professores\n",
    "M = size(preferencias,2) # número de matérias\n",
    "H = 7 # horarios\n",
    "D = 5 # dias"
   ]
  },
  {
   "cell_type": "code",
   "execution_count": 10,
   "metadata": {},
   "outputs": [
    {
     "data": {
      "text/plain": [
       "52×92 Array{VariableRef,2}:\n",
       " x[1,1]   x[1,2]   x[1,3]   x[1,4]   x[1,5]   …  x[1,90]   x[1,91]   x[1,92]\n",
       " x[2,1]   x[2,2]   x[2,3]   x[2,4]   x[2,5]      x[2,90]   x[2,91]   x[2,92]\n",
       " x[3,1]   x[3,2]   x[3,3]   x[3,4]   x[3,5]      x[3,90]   x[3,91]   x[3,92]\n",
       " x[4,1]   x[4,2]   x[4,3]   x[4,4]   x[4,5]      x[4,90]   x[4,91]   x[4,92]\n",
       " x[5,1]   x[5,2]   x[5,3]   x[5,4]   x[5,5]      x[5,90]   x[5,91]   x[5,92]\n",
       " x[6,1]   x[6,2]   x[6,3]   x[6,4]   x[6,5]   …  x[6,90]   x[6,91]   x[6,92]\n",
       " x[7,1]   x[7,2]   x[7,3]   x[7,4]   x[7,5]      x[7,90]   x[7,91]   x[7,92]\n",
       " x[8,1]   x[8,2]   x[8,3]   x[8,4]   x[8,5]      x[8,90]   x[8,91]   x[8,92]\n",
       " x[9,1]   x[9,2]   x[9,3]   x[9,4]   x[9,5]      x[9,90]   x[9,91]   x[9,92]\n",
       " x[10,1]  x[10,2]  x[10,3]  x[10,4]  x[10,5]     x[10,90]  x[10,91]  x[10,92]\n",
       " x[11,1]  x[11,2]  x[11,3]  x[11,4]  x[11,5]  …  x[11,90]  x[11,91]  x[11,92]\n",
       " x[12,1]  x[12,2]  x[12,3]  x[12,4]  x[12,5]     x[12,90]  x[12,91]  x[12,92]\n",
       " x[13,1]  x[13,2]  x[13,3]  x[13,4]  x[13,5]     x[13,90]  x[13,91]  x[13,92]\n",
       " ⋮                                            ⋱            ⋮         \n",
       " x[41,1]  x[41,2]  x[41,3]  x[41,4]  x[41,5]  …  x[41,90]  x[41,91]  x[41,92]\n",
       " x[42,1]  x[42,2]  x[42,3]  x[42,4]  x[42,5]     x[42,90]  x[42,91]  x[42,92]\n",
       " x[43,1]  x[43,2]  x[43,3]  x[43,4]  x[43,5]     x[43,90]  x[43,91]  x[43,92]\n",
       " x[44,1]  x[44,2]  x[44,3]  x[44,4]  x[44,5]     x[44,90]  x[44,91]  x[44,92]\n",
       " x[45,1]  x[45,2]  x[45,3]  x[45,4]  x[45,5]     x[45,90]  x[45,91]  x[45,92]\n",
       " x[46,1]  x[46,2]  x[46,3]  x[46,4]  x[46,5]  …  x[46,90]  x[46,91]  x[46,92]\n",
       " x[47,1]  x[47,2]  x[47,3]  x[47,4]  x[47,5]     x[47,90]  x[47,91]  x[47,92]\n",
       " x[48,1]  x[48,2]  x[48,3]  x[48,4]  x[48,5]     x[48,90]  x[48,91]  x[48,92]\n",
       " x[49,1]  x[49,2]  x[49,3]  x[49,4]  x[49,5]     x[49,90]  x[49,91]  x[49,92]\n",
       " x[50,1]  x[50,2]  x[50,3]  x[50,4]  x[50,5]     x[50,90]  x[50,91]  x[50,92]\n",
       " x[51,1]  x[51,2]  x[51,3]  x[51,4]  x[51,5]  …  x[51,90]  x[51,91]  x[51,92]\n",
       " x[52,1]  x[52,2]  x[52,3]  x[52,4]  x[52,5]     x[52,90]  x[52,91]  x[52,92]"
      ]
     },
     "execution_count": 10,
     "metadata": {},
     "output_type": "execute_result"
    }
   ],
   "source": [
    "@variable(model, x[1:P, 1:M] ≥ 0, Bin) #P*M var de decisão"
   ]
  },
  {
   "cell_type": "code",
   "execution_count": 11,
   "metadata": {},
   "outputs": [],
   "source": [
    "@constraint(model,[p=1:P, d=1:D, h=1:H], sum(HT[d, h, t] * x[p,t] for t=1:M) ≤ 1)\n",
    "@constraint(model, [t=1:M], sum(x[p,t] for p=1:P) == 1)\n",
    "@constraint(model, [p=1:P], sum(DU[d, h, t]*x[p,t] for t=1:M, d=1:D, h=1:H) ≥ 6)\n",
    "@constraint(model, [p=1:P], sum(DU[d, h, t]*x[p,t] for t=1:M, d=1:D, h=1:H) ≤ 12);"
   ]
  },
  {
   "cell_type": "code",
   "execution_count": 12,
   "metadata": {},
   "outputs": [],
   "source": [
    "# Primeiro maximizando o modelo\n",
    "@objective(model, Max, sum(preferencias[p,t]*x[p,t] for p=1:P, t=1:M) - sum(x[p,t]*x[p,i]*(norm(V[t] - V[i]))^2 for p=1:P, t=1:M, i=1:M));\n"
   ]
  },
  {
   "cell_type": "code",
   "execution_count": 13,
   "metadata": {},
   "outputs": [
    {
     "name": "stdout",
     "output_type": "stream",
     "text": [
      "Gurobi Optimizer version 9.1.0 build v9.1.0rc0 (win64)\r\n",
      "Thread count: 4 physical cores, 4 logical processors, using up to 4 threads\r\n",
      "Optimize a model with 2016 rows, 4784 columns and 25168 nonzeros\r\n",
      "Model fingerprint: 0xd943c4a8\r\n",
      "Model has 171028 quadratic objective terms\r\n",
      "Variable types: 0 continuous, 4784 integer (4784 binary)\r\n",
      "Coefficient statistics:\r\n",
      "  Matrix range     [1e+00, 8e+00]\r\n",
      "  Objective range  [1e+00, 5e+00]\r\n",
      "  QObjective range [4e+00, 2e+01]\r\n",
      "  Bounds range     [0e+00, 0e+00]\r\n",
      "  RHS range        [1e+00, 1e+01]\r\n",
      "Found heuristic solution: objective -211.0000000\r\n",
      "Presolve removed 520 rows and 0 columns\r\n",
      "Presolve time: 0.31s\r\n",
      "Presolved: 4408 rows, 7696 columns, 199576 nonzeros\r\n",
      "Variable types: 0 continuous, 7696 integer (4784 binary)\r\n",
      "\r\n",
      "Root relaxation: objective -3.429590e+02, 873 iterations, 0.09 seconds\r\n",
      "\r\n",
      "    Nodes    |    Current Node    |     Objective Bounds      |     Work\r\n",
      " Expl Unexpl |  Obj  Depth IntInf | Incumbent    BestBd   Gap | It/Node Time\r\n",
      "\r\n",
      "     0     0  342.95897    0   74 -211.00000  342.95897   263%     -    1s\r\n",
      "H    0     0                     202.0000000  342.95897  69.8%     -    1s\r\n",
      "H    0     0                     226.0000000  342.95897  51.8%     -    1s\r\n",
      "H    0     0                     228.0000000  342.95897  50.4%     -    1s\r\n",
      "     0     0  324.84254    0   97  228.00000  324.84254  42.5%     -    1s\r\n",
      "H    0     0                     271.0000000  324.84254  19.9%     -    2s\r\n",
      "     0     0  324.74728    0  118  271.00000  324.74728  19.8%     -    2s\r\n",
      "     0     0  318.81432    0  175  271.00000  318.81432  17.6%     -    2s\r\n",
      "     0     0  317.06803    0  147  271.00000  317.06803  17.0%     -    2s\r\n",
      "     0     0  316.66016    0  150  271.00000  316.66016  16.8%     -    2s\r\n",
      "     0     0  316.65789    0  151  271.00000  316.65789  16.8%     -    2s\r\n",
      "     0     0  311.70197    0  135  271.00000  311.70197  15.0%     -    3s\r\n",
      "     0     0  310.36656    0  114  271.00000  310.36656  14.5%     -    4s\r\n",
      "     0     0  310.31334    0  131  271.00000  310.31334  14.5%     -    4s\r\n",
      "     0     0  308.49071    0  120  271.00000  308.49071  13.8%     -    4s\r\n",
      "     0     0  308.15525    0  132  271.00000  308.15525  13.7%     -    4s\r\n",
      "     0     0  308.13826    0  132  271.00000  308.13826  13.7%     -    4s\r\n",
      "     0     0  307.51131    0  148  271.00000  307.51131  13.5%     -    5s\r\n",
      "     0     0  307.49018    0  150  271.00000  307.49018  13.5%     -    5s\r\n",
      "     0     0  307.05239    0  163  271.00000  307.05239  13.3%     -    5s\r\n",
      "     0     0  306.97787    0  167  271.00000  306.97787  13.3%     -    5s\r\n",
      "     0     0  306.86723    0  170  271.00000  306.86723  13.2%     -    6s\r\n",
      "     0     0  306.86723    0  153  271.00000  306.86723  13.2%     -    6s\r\n",
      "     0     2  305.98974    0  152  271.00000  305.98974  12.9%     -    6s\r\n",
      "H  158   163                     284.0000000  304.61644  7.26%  67.0   10s\r\n",
      "   725   654  288.00000   74   22  284.00000  304.40011  7.18%  49.1   15s\r\n",
      "  1046   859  290.00000   43   78  284.00000  303.57908  6.89%  53.1   20s\r\n",
      "  1087   887  297.43516   19  130  284.00000  297.57353  4.78%  51.1   25s\r\n",
      "H 1088   841                     286.0000000  297.52296  4.03%  51.1   25s\r\n",
      "  1137   874  296.23613    9  164  286.00000  296.23613  3.58%  48.9   30s\r\n",
      "  1168   895  294.86932   35  131  286.00000  296.04010  3.51%  47.6   35s\r\n",
      "  1196   913  291.33333   50  152  286.00000  295.76732  3.42%  46.5   40s\r\n",
      "H 1196   865                     288.0000000  295.76381  2.70%  46.5   42s\r\n",
      "  1216   879  290.00000   46  172  288.00000  295.29492  2.53%  45.7   45s\r\n",
      "  1239   894  294.98516    9  139  288.00000  294.98516  2.43%  44.9   50s\r\n",
      "  1270   915  294.62549   37  202  288.00000  294.62549  2.30%  43.8   55s\r\n",
      "  1300   935  288.00000   94  192  288.00000  294.39624  2.22%  42.8   60s\r\n",
      "  1341   962  294.13737   10  177  288.00000  294.13737  2.13%  41.5   65s\r\n",
      "H 1353   916                     289.0000000  294.05199  1.75%  41.1   67s\r\n",
      "  1380   934  293.86939    7  188  289.00000  293.86939  1.68%  40.3   70s\r\n",
      "  1425   964  293.67978   20  178  289.00000  293.67978  1.62%  39.0   75s\r\n",
      "  1458   986  293.60521   34  164  289.00000  293.60521  1.59%  38.1   80s\r\n",
      "  1487  1005  293.53467   19  168  289.00000  293.53467  1.57%  37.4   85s\r\n",
      "  1525  1031  293.44791   20  174  289.00000  293.44791  1.54%  36.5   90s\r\n",
      "  1556  1052  291.98048   91  165  289.00000  293.31096  1.49%  54.5   95s\r\n",
      "  1596  1079  291.33333   50  193  289.00000  293.04691  1.40%  53.1  100s\r\n",
      "  1649  1114  292.76746    3  189  289.00000  292.76746  1.30%  51.4  105s\r\n",
      "  1698  1147  292.61734   11  155  289.00000  292.61734  1.25%  50.0  110s\r\n",
      "  1726  1167  292.57245   24   70  289.00000  292.57245  1.24%  54.8  115s\r\n",
      "  1793  1212  292.32661   39  153  289.00000  292.32661  1.15%  52.8  120s\r\n",
      "  1853  1252  289.00000   14  190  289.00000  292.12327  1.08%  51.1  125s\r\n",
      "  2005  1295  291.67830   67   83  289.00000  292.05848  1.06%  57.0  130s\r\n",
      "  2542  1306     cutoff   56       289.00000  291.59106  0.90%  59.2  135s\r\n",
      "  2997  1255  290.22196   50   62  289.00000  291.33481  0.81%  61.6  140s\r\n",
      "  3420  1164  290.67662   82   73  289.00000  291.16708  0.75%  63.3  145s\r\n",
      "  4011   976     cutoff   74       289.00000  290.99494  0.69%  66.5  150s\r\n",
      "  4751   705     cutoff   49       289.00000  290.76428  0.61%  70.4  155s\r\n",
      "  5641     0     cutoff   65       289.00000  290.37364  0.48%  70.8  160s\r\n",
      "\r\n",
      "Cutting planes:\r\n",
      "  Gomory: 19\r\n",
      "  Cover: 62\r\n",
      "  Clique: 14\r\n",
      "  MIR: 68\r\n",
      "  StrongCG: 10\r\n",
      "  Flow cover: 247\r\n",
      "  GUB cover: 5\r\n",
      "  Inf proof: 1\r\n",
      "  Zero half: 28\r\n",
      "  RLT: 4\r\n",
      "  Relax-and-lift: 62\r\n",
      "\r\n",
      "Explored 5817 nodes (410049 simplex iterations) in 160.34 seconds\r\n",
      "Thread count was 4 (of 4 available processors)\r\n",
      "\r\n",
      "Solution count 9: 289 288 286 ... -211\r\n",
      "\r\n",
      "Optimal solution found (tolerance 1.00e-04)\r\n",
      "Best objective 2.890000000000e+02, best bound 2.890000000000e+02, gap 0.0000%\r\n",
      "\r\n",
      "User-callback calls 33210, time in user-callback 0.14 sec\r\n"
     ]
    }
   ],
   "source": [
    "optimize!(model) #resolver"
   ]
  },
  {
   "cell_type": "code",
   "execution_count": 14,
   "metadata": {},
   "outputs": [
    {
     "data": {
      "text/plain": [
       "52×92 Array{Float64,2}:\n",
       " -0.0  -0.0  -0.0  -0.0  -0.0  -0.0  …  -0.0  -0.0  -0.0  -0.0  -0.0  -0.0\n",
       " -0.0  -0.0  -0.0  -0.0   1.0  -0.0     -0.0  -0.0  -0.0  -0.0  -0.0  -0.0\n",
       " -0.0  -0.0  -0.0  -0.0  -0.0  -0.0     -0.0   0.0  -0.0  -0.0  -0.0  -0.0\n",
       " -0.0  -0.0  -0.0  -0.0  -0.0  -0.0     -0.0  -0.0   1.0   1.0  -0.0  -0.0\n",
       " -0.0  -0.0  -0.0  -0.0  -0.0  -0.0     -0.0   0.0  -0.0  -0.0  -0.0  -0.0\n",
       " -0.0  -0.0  -0.0  -0.0  -0.0  -0.0  …  -0.0  -0.0  -0.0  -0.0  -0.0  -0.0\n",
       "  1.0  -0.0  -0.0  -0.0  -0.0  -0.0     -0.0  -0.0  -0.0  -0.0  -0.0  -0.0\n",
       " -0.0  -0.0  -0.0  -0.0  -0.0  -0.0     -0.0  -0.0  -0.0  -0.0  -0.0  -0.0\n",
       " -0.0  -0.0  -0.0  -0.0  -0.0  -0.0     -0.0   0.0  -0.0  -0.0   1.0   1.0\n",
       " -0.0  -0.0  -0.0  -0.0  -0.0  -0.0      1.0  -0.0  -0.0  -0.0  -0.0  -0.0\n",
       " -0.0  -0.0  -0.0  -0.0  -0.0  -0.0  …  -0.0  -0.0  -0.0  -0.0  -0.0  -0.0\n",
       " -0.0  -0.0  -0.0  -0.0  -0.0  -0.0     -0.0  -0.0  -0.0  -0.0  -0.0  -0.0\n",
       " -0.0  -0.0  -0.0  -0.0  -0.0  -0.0     -0.0  -0.0  -0.0  -0.0  -0.0  -0.0\n",
       "  ⋮                             ⋮    ⋱                           ⋮    \n",
       " -0.0  -0.0  -0.0  -0.0  -0.0  -0.0  …  -0.0  -0.0  -0.0  -0.0  -0.0  -0.0\n",
       " -0.0  -0.0  -0.0  -0.0  -0.0  -0.0     -0.0   0.0  -0.0  -0.0  -0.0  -0.0\n",
       " -0.0  -0.0  -0.0  -0.0  -0.0  -0.0     -0.0  -0.0  -0.0  -0.0  -0.0  -0.0\n",
       " -0.0  -0.0  -0.0  -0.0  -0.0  -0.0     -0.0  -0.0  -0.0  -0.0  -0.0  -0.0\n",
       " -0.0  -0.0  -0.0  -0.0  -0.0  -0.0     -0.0  -0.0  -0.0  -0.0  -0.0  -0.0\n",
       " -0.0  -0.0  -0.0  -0.0  -0.0  -0.0  …  -0.0  -0.0  -0.0  -0.0  -0.0  -0.0\n",
       " -0.0  -0.0  -0.0  -0.0  -0.0  -0.0     -0.0  -0.0  -0.0  -0.0  -0.0  -0.0\n",
       " -0.0  -0.0  -0.0  -0.0  -0.0  -0.0     -0.0  -0.0  -0.0  -0.0  -0.0  -0.0\n",
       " -0.0  -0.0   1.0  -0.0  -0.0  -0.0     -0.0  -0.0  -0.0  -0.0  -0.0  -0.0\n",
       " -0.0  -0.0  -0.0  -0.0  -0.0  -0.0     -0.0  -0.0  -0.0  -0.0  -0.0  -0.0\n",
       " -0.0  -0.0  -0.0  -0.0  -0.0  -0.0  …   0.0   0.0  -0.0  -0.0   0.0   0.0\n",
       " -0.0  -0.0  -0.0  -0.0  -0.0  -0.0     -0.0  -0.0  -0.0  -0.0  -0.0  -0.0"
      ]
     },
     "execution_count": 14,
     "metadata": {},
     "output_type": "execute_result"
    }
   ],
   "source": [
    "resp = value.(x)\n",
    "resp"
   ]
  },
  {
   "cell_type": "code",
   "execution_count": 15,
   "metadata": {},
   "outputs": [
    {
     "data": {
      "text/plain": [
       "1×92 Array{Float64,2}:\n",
       " 1.0  1.0  1.0  1.0  1.0  1.0  1.0  1.0  …  1.0  1.0  1.0  1.0  1.0  1.0  1.0"
      ]
     },
     "execution_count": 15,
     "metadata": {},
     "output_type": "execute_result"
    }
   ],
   "source": [
    "sum(resp, dims=1)"
   ]
  },
  {
   "cell_type": "code",
   "execution_count": 16,
   "metadata": {},
   "outputs": [
    {
     "data": {
      "text/plain": [
       "5.9423076923076925"
      ]
     },
     "execution_count": 16,
     "metadata": {},
     "output_type": "execute_result"
    }
   ],
   "source": [
    "# média da do grau de  satisfação\n",
    "sum(sum(resp .* preferencias, dims=2)) / 52"
   ]
  },
  {
   "cell_type": "code",
   "execution_count": 17,
   "metadata": {},
   "outputs": [
    {
     "data": {
      "text/plain": [
       "52×1 Array{Float64,2}:\n",
       " 8.0\n",
       " 9.0\n",
       " 0.0\n",
       " 9.0\n",
       " 4.0\n",
       " 4.0\n",
       " 5.0\n",
       " 9.0\n",
       " 0.0\n",
       " 3.0\n",
       " 4.0\n",
       " 9.0\n",
       " 5.0\n",
       " ⋮\n",
       " 0.0\n",
       " 8.0\n",
       " 5.0\n",
       " 7.0\n",
       " 7.0\n",
       " 4.0\n",
       " 7.0\n",
       " 9.0\n",
       " 2.0\n",
       " 9.0\n",
       " 9.0\n",
       " 5.0"
      ]
     },
     "execution_count": 17,
     "metadata": {},
     "output_type": "execute_result"
    }
   ],
   "source": [
    "# satisfação individual\n",
    "exe=sum(resp .* preferencias, dims=2)"
   ]
  },
  {
   "cell_type": "code",
   "execution_count": 18,
   "metadata": {},
   "outputs": [
    {
     "name": "stdout",
     "output_type": "stream",
     "text": [
      "92-element Array{Float64,1}:\n",
      " -0.0\n",
      " -0.0\n",
      " -0.0\n",
      " -0.0\n",
      " -0.0\n",
      " -0.0\n",
      " -0.0\n",
      " -0.0\n",
      " -0.0\n",
      " -0.0\n",
      " -0.0\n",
      " -0.0\n",
      " -0.0\n",
      " -0.0\n",
      " -0.0\n",
      " -0.0\n",
      " -0.0\n",
      " -0.0\n",
      " -0.0\n",
      " -0.0\n",
      " -0.0\n",
      " -0.0\n",
      " -0.0\n",
      " -0.0\n",
      " -0.0\n",
      " -0.0\n",
      " -0.0\n",
      " -0.0\n",
      " -0.0\n",
      " -0.0\n",
      " -0.0\n",
      " -0.0\n",
      " -0.0\n",
      "  0.0\n",
      " -0.0\n",
      " -0.0\n",
      " -0.0\n",
      " -0.0\n",
      " -0.0\n",
      " -0.0\n",
      " -0.0\n",
      " -0.0\n",
      " -0.0\n",
      " -0.0\n",
      " -0.0\n",
      " -0.0\n",
      " -0.0\n",
      " -0.0\n",
      " -0.0\n",
      " -0.0\n",
      " -0.0\n",
      " -0.0\n",
      " -0.0\n",
      " -0.0\n",
      " -0.0\n",
      " -0.0\n",
      " -0.0\n",
      " -0.0\n",
      " -0.0\n",
      " -0.0\n",
      " -0.0\n",
      " -0.0\n",
      " -0.0\n",
      " -0.0\n",
      " -0.0\n",
      " -0.0\n",
      " -0.0\n",
      " -0.0\n",
      " -0.0\n",
      " -0.0\n",
      " -0.0\n",
      " -0.0\n",
      " -0.0\n",
      " -0.0\n",
      " -0.0\n",
      " -0.0\n",
      " -0.0\n",
      " -0.0\n",
      " -0.0\n",
      " -0.0\n",
      " -0.0\n",
      " -0.0\n",
      " -0.0\n",
      " -0.0\n",
      "  1.0\n",
      "  1.0\n",
      " -0.0\n",
      " -0.0\n",
      " -0.0\n",
      " -0.0\n",
      " -0.0\n",
      " -0.0"
     ]
    }
   ],
   "source": [
    "show(IOContext(stdout, :limit=>false), MIME\"text/plain\"(), resp[47,:])\n",
    "#prof 47 recebeu as disciplina 85 e 86 de 3h30min-tudo certo!"
   ]
  },
  {
   "cell_type": "code",
   "execution_count": 19,
   "metadata": {},
   "outputs": [
    {
     "data": {
      "text/plain": [
       "1-element Array{CartesianIndex{2},1}:\n",
       " CartesianIndex(16, 64)"
      ]
     },
     "execution_count": 19,
     "metadata": {},
     "output_type": "execute_result"
    }
   ],
   "source": [
    "A = value.(x) .* preferencias\n",
    "findall(A .== 1)"
   ]
  },
  {
   "cell_type": "code",
   "execution_count": 20,
   "metadata": {},
   "outputs": [],
   "source": [
    "# concl = DataFrame(resp);\n",
    "# show(IOContext(stdout, :limit=>false), MIME\"text/plain\"(), resp);"
   ]
  },
  {
   "cell_type": "code",
   "execution_count": 21,
   "metadata": {},
   "outputs": [
    {
     "data": {
      "text/plain": [
       "309.0"
      ]
     },
     "execution_count": 21,
     "metadata": {},
     "output_type": "execute_result"
    }
   ],
   "source": [
    "sum(exe)"
   ]
  },
  {
   "cell_type": "code",
   "execution_count": null,
   "metadata": {},
   "outputs": [],
   "source": []
  }
 ],
 "metadata": {
  "kernelspec": {
   "display_name": "Julia 1.5.0",
   "language": "julia",
   "name": "julia-1.5"
  },
  "language_info": {
   "file_extension": ".jl",
   "mimetype": "application/julia",
   "name": "julia",
   "version": "1.5.0"
  }
 },
 "nbformat": 4,
 "nbformat_minor": 4
}
